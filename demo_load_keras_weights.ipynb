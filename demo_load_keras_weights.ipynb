{
 "cells": [
  {
   "cell_type": "markdown",
   "metadata": {},
   "source": [
    "Create the graph"
   ]
  },
  {
   "cell_type": "code",
   "execution_count": null,
   "metadata": {
    "collapsed": true
   },
   "outputs": [],
   "source": [
    "import tensorflow as tf\n",
    "import h5py\n",
    "from xception import xception, xception_arg_scope\n",
    "import load_keras_weights\n",
    "\n",
    "sess = tf.Session()\n",
    "\n",
    "batch_size = 1\n",
    "height, width = 299, 299\n",
    "num_classes = 1000\n",
    "inputs = tf.placeholder(tf.float32, shape = (batch_size, height, width, 3), name = 'input')\n",
    "\n",
    "with tf.contrib.slim.arg_scope(xception_arg_scope()):\n",
    "    logits, end_points = xception(inputs, num_classes, is_training = False)\n",
    "\n",
    "graph = tf.get_default_graph()"
   ]
  },
  {
   "cell_type": "markdown",
   "metadata": {},
   "source": [
    "Load the keras pretrained weights into the graph"
   ]
  },
  {
   "cell_type": "code",
   "execution_count": null,
   "metadata": {
    "collapsed": true
   },
   "outputs": [],
   "source": [
    "with h5py.File('xception_weights_tf_dim_ordering_tf_kernels.h5', 'r') as h5f:\n",
    "    load_ops = load_keras_weights.get_assign_ops(graph, h5f)\n",
    "for op in load_ops:\n",
    "    sess.run(op)"
   ]
  },
  {
   "cell_type": "markdown",
   "metadata": {},
   "source": [
    "Test"
   ]
  },
  {
   "cell_type": "code",
   "execution_count": null,
   "metadata": {},
   "outputs": [],
   "source": [
    "from labels import labels\n",
    "import matplotlib.pyplot as plt\n",
    "from scipy import misc\n",
    "import numpy as np\n",
    "%matplotlib inline\n",
    "\n",
    "image = 'dog.jpg'\n",
    "image_data = misc.imread(image)\n",
    "input_data = ((image_data[np.newaxis, ...]) / 255.0 - 0.5)*2.0\n",
    "\n",
    "val_p = sess.run((end_points['Predictions']), feed_dict = {inputs: input_data})\n",
    "\n",
    "plt.figure(figsize=(8,2))\n",
    "plt.subplot(121)\n",
    "plt.imshow(image_data)\n",
    "plt.title('detected as: ' + labels[np.argmax(val_p)])\n",
    "plt.subplot(122)\n",
    "plt.plot(range(1000), val_p[0,0,0,:])"
   ]
  }
 ],
 "metadata": {
  "kernelspec": {
   "display_name": "Python 3",
   "language": "python",
   "name": "python3"
  },
  "language_info": {
   "codemirror_mode": {
    "name": "ipython",
    "version": 3
   },
   "file_extension": ".py",
   "mimetype": "text/x-python",
   "name": "python",
   "nbconvert_exporter": "python",
   "pygments_lexer": "ipython3",
   "version": "3.5.2"
  }
 },
 "nbformat": 4,
 "nbformat_minor": 2
}
